{
 "cells": [
  {
   "cell_type": "code",
   "execution_count": 1,
   "metadata": {
    "collapsed": true,
    "deletable": true,
    "editable": true
   },
   "outputs": [],
   "source": [
    "%matplotlib inline\n",
    "import numpy as np\n",
    "import os\n",
    "import sys\n",
    "import traceback\n",
    "from scipy.io import loadmat\n",
    "import math\n",
    "import scipy.signal as signal\n",
    "from scipy.signal import *\n",
    "#from scipy.signal import mfreqz, impz, kaiser, group_delay, hilbert\n",
    "import matplotlib.pyplot as plt\n",
    "\n",
    "from numpy import cos, sin, pi, absolute, arange\n",
    "from numpy.random import normal\n",
    "from scipy.signal import kaiserord, lfilter, firwin, freqz\n",
    "#from pylab import figure, clf, plot, xlabel, ylabel, xlim, ylim, title, grid, axes, show\n",
    "from math import sqrt, log10\n",
    "from scipy.io import loadmat"
   ]
  },
  {
   "cell_type": "code",
   "execution_count": 16,
   "metadata": {
    "collapsed": false
   },
   "outputs": [
    {
     "data": {
      "text/plain": [
       "281"
      ]
     },
     "execution_count": 16,
     "metadata": {},
     "output_type": "execute_result"
    }
   ],
   "source": [
    "matdata = loadmat('/Users/smitra/projects/webChronux/kaisermatlab.mat')\n",
    "len(matdata['bAlpha'][0])"
   ]
  },
  {
   "cell_type": "code",
   "execution_count": 17,
   "metadata": {
    "collapsed": false
   },
   "outputs": [
    {
     "data": {
      "text/plain": [
       "[<matplotlib.lines.Line2D at 0x1042f5390>]"
      ]
     },
     "execution_count": 17,
     "metadata": {},
     "output_type": "execute_result"
    },
    {
     "data": {
      "image/png": "[encoded data removed]",
      "text/plain": [
       "<matplotlib.figure.Figure at 0x1084dc208>"
      ]
     },
     "metadata": {},
     "output_type": "display_data"
    }
   ],
   "source": [
    "plt.plot(matdata['bAlpha'][0])"
   ]
  },
  {
   "cell_type": "code",
   "execution_count": 48,
   "metadata": {
    "collapsed": false
   },
   "outputs": [
    {
     "ename": "ValueError",
     "evalue": "A filter with an even number of coefficients must have zero response at the Nyquist rate.",
     "output_type": "error",
     "traceback": [
      "\u001b[0;31m---------------------------------------------------------------------------\u001b[0m",
      "\u001b[0;31mValueError\u001b[0m                                Traceback (most recent call last)",
      "\u001b[0;32m<ipython-input-48-d8942accf8db>\u001b[0m in \u001b[0;36m<module>\u001b[0;34m()\u001b[0m\n\u001b[1;32m     15\u001b[0m \u001b[0mN\u001b[0m\u001b[0;34m,\u001b[0m \u001b[0mbeta\u001b[0m \u001b[0;34m=\u001b[0m \u001b[0mkaiserord\u001b[0m\u001b[0;34m(\u001b[0m\u001b[0mripple_db\u001b[0m\u001b[0;34m,\u001b[0m \u001b[0mwidth\u001b[0m\u001b[0;34m)\u001b[0m\u001b[0;34m\u001b[0m\u001b[0m\n\u001b[1;32m     16\u001b[0m \u001b[0mcutoff_hz\u001b[0m \u001b[0;34m=\u001b[0m \u001b[0mlcut\u001b[0m\u001b[0;34m\u001b[0m\u001b[0m\n\u001b[0;32m---> 17\u001b[0;31m \u001b[0mhpftaps\u001b[0m \u001b[0;34m=\u001b[0m \u001b[0mfirwin\u001b[0m\u001b[0;34m(\u001b[0m\u001b[0mN\u001b[0m\u001b[0;34m,\u001b[0m \u001b[0mcutoff_hz\u001b[0m\u001b[0;34m/\u001b[0m\u001b[0mnyq\u001b[0m\u001b[0;34m,\u001b[0m \u001b[0mwindow\u001b[0m\u001b[0;34m=\u001b[0m\u001b[0;34m(\u001b[0m\u001b[0;34m'kaiser'\u001b[0m\u001b[0;34m,\u001b[0m \u001b[0mbeta\u001b[0m\u001b[0;34m)\u001b[0m\u001b[0;34m,\u001b[0m \u001b[0mpass_zero\u001b[0m\u001b[0;34m=\u001b[0m\u001b[0;32mFalse\u001b[0m\u001b[0;34m)\u001b[0m\u001b[0;34m\u001b[0m\u001b[0m\n\u001b[0m\u001b[1;32m     18\u001b[0m \u001b[0mhpftaps\u001b[0m \u001b[0;34m=\u001b[0m \u001b[0;34m[\u001b[0m\u001b[0;34m-\u001b[0m\u001b[0;36m1\u001b[0m\u001b[0;34m*\u001b[0m\u001b[0ma\u001b[0m \u001b[0;32mfor\u001b[0m \u001b[0ma\u001b[0m \u001b[0;32min\u001b[0m \u001b[0mhpftaps\u001b[0m\u001b[0;34m]\u001b[0m\u001b[0;34m\u001b[0m\u001b[0m\n\u001b[1;32m     19\u001b[0m \u001b[0mmidPoint\u001b[0m \u001b[0;34m=\u001b[0m \u001b[0mint\u001b[0m\u001b[0;34m(\u001b[0m\u001b[0mnp\u001b[0m\u001b[0;34m.\u001b[0m\u001b[0mround\u001b[0m\u001b[0;34m(\u001b[0m\u001b[0mlen\u001b[0m\u001b[0;34m(\u001b[0m\u001b[0mhpftaps\u001b[0m\u001b[0;34m)\u001b[0m\u001b[0;34m/\u001b[0m\u001b[0;36m2\u001b[0m\u001b[0;34m)\u001b[0m\u001b[0;34m)\u001b[0m\u001b[0;34m\u001b[0m\u001b[0m\n",
      "\u001b[0;32m/Users/smitra/projects/venv3/lib/python3.6/site-packages/scipy/signal/fir_filter_design.py\u001b[0m in \u001b[0;36mfirwin\u001b[0;34m(numtaps, cutoff, width, window, pass_zero, scale, nyq)\u001b[0m\n\u001b[1;32m    279\u001b[0m     \u001b[0mpass_nyquist\u001b[0m \u001b[0;34m=\u001b[0m \u001b[0mbool\u001b[0m\u001b[0;34m(\u001b[0m\u001b[0mcutoff\u001b[0m\u001b[0;34m.\u001b[0m\u001b[0msize\u001b[0m \u001b[0;34m&\u001b[0m \u001b[0;36m1\u001b[0m\u001b[0;34m)\u001b[0m \u001b[0;34m^\u001b[0m \u001b[0mpass_zero\u001b[0m\u001b[0;34m\u001b[0m\u001b[0m\n\u001b[1;32m    280\u001b[0m     \u001b[0;32mif\u001b[0m \u001b[0mpass_nyquist\u001b[0m \u001b[0;32mand\u001b[0m \u001b[0mnumtaps\u001b[0m \u001b[0;34m%\u001b[0m \u001b[0;36m2\u001b[0m \u001b[0;34m==\u001b[0m \u001b[0;36m0\u001b[0m\u001b[0;34m:\u001b[0m\u001b[0;34m\u001b[0m\u001b[0m\n\u001b[0;32m--> 281\u001b[0;31m         raise ValueError(\"A filter with an even number of coefficients must \"\n\u001b[0m\u001b[1;32m    282\u001b[0m                          \"have zero response at the Nyquist rate.\")\n\u001b[1;32m    283\u001b[0m \u001b[0;34m\u001b[0m\u001b[0m\n",
      "\u001b[0;31mValueError\u001b[0m: A filter with an even number of coefficients must have zero response at the Nyquist rate."
     ]
    }
   ],
   "source": [
    "eegData = loadmat('/Users/smitra/projects/webChronux/utils/EEG181.mat')\n",
    "eegFS = 250 # sampling frequency\n",
    "eegData = eegData[\"eegData\"]\n",
    "eeg = eegData[14]\n",
    "eeg = eeg[50 * eegFS - 1 : 80 * eegFS - 1 ]   \n",
    "eeg = eeg - np.mean(eeg, axis = 0) \n",
    "edges = np.linspace(-math.pi,math.pi,21) \n",
    "\n",
    "lcut = 9.0 \n",
    "hcut = 13.0\n",
    "sample_rate = 250.0\n",
    "nyq = sample_rate / 2.0\n",
    "width = 1.5/nyq # pass to stop transition width\n",
    "ripple_db = 40.0\n",
    "N, beta = kaiserord(ripple_db, width)\n",
    "cutoff_hz = lcut\n",
    "hpftaps = firwin(N, cutoff_hz/nyq, window=('kaiser', beta), pass_zero=False)    \n",
    "hpftaps = [-1*a for a in hpftaps]\n",
    "midPoint = int(np.round(len(hpftaps)/2))\n",
    "if midPoint % 2 != 0:\n",
    "    midPoint = midPoint -1\n",
    "hpftaps[midPoint] = hpftaps[midPoint] + 1\n",
    "cutoff_hz = hcut\n",
    "lpftaps = firwin(N, cutoff_hz/nyq, window=('kaiser', beta), pass_zero=False)\n",
    "lpftaps[midPoint] = lpftaps[midPoint] - 1\n",
    "\n",
    "taps = [sum(pair) for pair in zip(hpftaps, lpftaps)]\n",
    "plt.plot(taps)"
   ]
  },
  {
   "cell_type": "code",
   "execution_count": 38,
   "metadata": {
    "collapsed": false
   },
   "outputs": [
    {
     "data": {
      "text/plain": [
       "281"
      ]
     },
     "execution_count": 38,
     "metadata": {},
     "output_type": "execute_result"
    }
   ],
   "source": [
    "len(taps)"
   ]
  },
  {
   "cell_type": "code",
   "execution_count": 40,
   "metadata": {
    "collapsed": false
   },
   "outputs": [
    {
     "data": {
      "text/plain": [
       "[<matplotlib.lines.Line2D at 0x114d17908>]"
      ]
     },
     "execution_count": 40,
     "metadata": {},
     "output_type": "execute_result"
    },
    {
     "data": {
      "image/png": "[encoded data removed]",
      "text/plain": [
       "<matplotlib.figure.Figure at 0x114bdfa58>"
      ]
     },
     "metadata": {},
     "output_type": "display_data"
    }
   ],
   "source": [
    "z = [float(x)-2*float(y) for x,y in zip(matdata['bAlpha'][0], taps)]\n",
    "plt.plot(z)"
   ]
  },
  {
   "cell_type": "code",
   "execution_count": 27,
   "metadata": {
    "collapsed": false
   },
   "outputs": [
    {
     "data": {
      "text/plain": [
       "[<matplotlib.lines.Line2D at 0x11405e780>]"
      ]
     },
     "execution_count": 27,
     "metadata": {},
     "output_type": "execute_result"
    },
    {
     "data": {
      "image/png": "[encoded data removed]",
      "text/plain": [
       "<matplotlib.figure.Figure at 0x108553860>"
      ]
     },
     "metadata": {},
     "output_type": "display_data"
    }
   ],
   "source": [
    "y = [float(x)*float(y) for x,y in zip(matdata['bAlpha'][0], taps)]\n",
    "plt.plot(y)"
   ]
  },
  {
   "cell_type": "code",
   "execution_count": 26,
   "metadata": {
    "collapsed": false
   },
   "outputs": [
    {
     "data": {
      "text/plain": [
       "[1.3125775202714487,\n",
       " 1.3355437595260433,\n",
       " 1.3568833197877874,\n",
       " 1.3766235462751526,\n",
       " 1.3947810022452323,\n",
       " 1.4113726115621517,\n",
       " 1.4264250732980006,\n",
       " 1.4400013331898445,\n",
       " 1.4523434566663755,\n",
       " 1.4667126335784249,\n",
       " 1.4672822543699824,\n",
       " 1.4758434170658419,\n",
       " 1.4817001484333316,\n",
       " 1.4857723424332827,\n",
       " 1.4881923997252513,\n",
       " -2.535847743158167,\n",
       " 1.4881923997253883,\n",
       " 1.4857723424333473,\n",
       " 1.481700148433362,\n",
       " 1.4758434170658703,\n",
       " 1.4672822543700186,\n",
       " 1.466712633578389,\n",
       " 1.4523434566663955,\n",
       " 1.4400013331898425,\n",
       " 1.4264250732980177,\n",
       " 1.4113726115621528,\n",
       " 1.3947810022452334,\n",
       " 1.376623546275163,\n",
       " 1.3568833197877839,\n",
       " 1.335543759526047,\n",
       " 1.3125775202714514,\n",
       " 1.287888253910603,\n",
       " 1.2537795034088013,\n",
       " 1.234772894370062,\n",
       " 1.2051734219897967,\n",
       " 1.1740570096002871,\n",
       " 1.1413009739414222,\n",
       " 1.1068647547949695,\n",
       " 1.0707181101854188,\n",
       " 1.0328307541847714,\n",
       " 0.9931692001761151,\n",
       " 0.9516947310044025,\n",
       " 0.908359403219552,\n",
       " 0.8630598817849093,\n",
       " 0.8160489835673281,\n",
       " 0.7667904557228835,\n",
       " 0.7154625484614152,\n",
       " 0.6619463234125851,\n",
       " 0.6061333707732309,\n",
       " 0.5479004231219561,\n",
       " 0.48710404456767814,\n",
       " 0.42357622156374813,\n",
       " 0.3571194369471717,\n",
       " 0.28750126840315793,\n",
       " 0.21445411340679507,\n",
       " 0.13747381637260997,\n",
       " 0.05655157497710108,\n",
       " -0.029103422998287547,\n",
       " -0.12000207386592897,\n",
       " -0.2168579184428327,\n",
       " -0.32055812037339615,\n",
       " -0.432213149822785,\n",
       " -0.5532291740832381,\n",
       " -0.6854125811827392,\n",
       " -0.8311289098301623,\n",
       " -0.9935986540587072,\n",
       " -1.1808045196114179,\n",
       " -1.3847479638587907,\n",
       " -1.6294650344005996,\n",
       " -1.9208249537609858,\n",
       " -2.2776723106499044,\n",
       " -2.730158586019494,\n",
       " -3.330350668294529,\n",
       " -4.176664978395055,\n",
       " -5.480240172759724,\n",
       " -7.791251719580808,\n",
       " -13.139056304507632,\n",
       " -40.61643680062216,\n",
       " 40.61643680062139,\n",
       " 13.139056304507516,\n",
       " 7.791251719580905,\n",
       " 5.4802401727597605,\n",
       " 4.176664978395078,\n",
       " 3.3303506682945243,\n",
       " 2.7301585860194706,\n",
       " 2.2776723106498915,\n",
       " 1.9208249537609905,\n",
       " 1.6294650344006176,\n",
       " 1.3847479638587905,\n",
       " 1.1808045196114325,\n",
       " 0.9935986540587064,\n",
       " 0.8311289098301604,\n",
       " 0.6854125811827348,\n",
       " 0.5532291740832337,\n",
       " 0.4322131498227818,\n",
       " 0.3205581203733911,\n",
       " 0.21685791844282853,\n",
       " 0.12000207386592411,\n",
       " 0.029103422998285958,\n",
       " -0.05655157497710498,\n",
       " -0.13747381637261571,\n",
       " -0.21445411340679846,\n",
       " -0.28750126840316065,\n",
       " -0.3571194369471776,\n",
       " -0.42357622156375013,\n",
       " -0.48710404456768225,\n",
       " -0.5479004231219572,\n",
       " -0.6061333707732334,\n",
       " -0.6619463234125861,\n",
       " -0.7154625484614154,\n",
       " -0.7667904557228822,\n",
       " -0.8160489835673324,\n",
       " -0.8630598817849057,\n",
       " -0.9083594032195561,\n",
       " -0.9516947310043975,\n",
       " -0.9931692001761129,\n",
       " -1.0328307541847703,\n",
       " -1.07071811018542,\n",
       " -1.1068647547949702,\n",
       " -1.141300973941426,\n",
       " -1.174057009600286,\n",
       " -1.2051734219897952,\n",
       " -1.2347728943700655,\n",
       " -1.2537795034091357,\n",
       " -1.287888253910605,\n",
       " -1.3125775202714511,\n",
       " -1.3355437595260453,\n",
       " -1.3568833197877868,\n",
       " -1.3766235462751604,\n",
       " -1.3947810022452338,\n",
       " -1.4113726115621588,\n",
       " -1.4264250732980064,\n",
       " -1.4400013331898474,\n",
       " -1.452343456666375,\n",
       " -1.4667126335783838,\n",
       " -1.4672822543700104,\n",
       " -1.4758434170658603,\n",
       " -1.4817001484333576,\n",
       " -1.4857723424333045,\n",
       " -1.4881923997253557,\n",
       " -1.4980405438232816,\n",
       " -1.4881923997253557,\n",
       " -1.4857723424333045,\n",
       " -1.4817001484333576,\n",
       " -1.4758434170658603,\n",
       " -1.4672822543700104,\n",
       " -1.4667126335783838,\n",
       " -1.452343456666375,\n",
       " -1.4400013331898474,\n",
       " -1.4264250732980064,\n",
       " -1.4113726115621588,\n",
       " -1.3947810022452338,\n",
       " -1.3766235462751604,\n",
       " -1.3568833197877868,\n",
       " -1.3355437595260453,\n",
       " -1.3125775202714511,\n",
       " -1.287888253910605,\n",
       " -1.2537795034091357,\n",
       " -1.2347728943700655,\n",
       " -1.2051734219897952,\n",
       " -1.174057009600286,\n",
       " -1.141300973941426,\n",
       " -1.1068647547949702,\n",
       " -1.07071811018542,\n",
       " -1.0328307541847703,\n",
       " -0.9931692001761129,\n",
       " -0.9516947310043975,\n",
       " -0.9083594032195561,\n",
       " -0.8630598817849057,\n",
       " -0.8160489835673324,\n",
       " -0.7667904557228822,\n",
       " -0.7154625484614154,\n",
       " -0.6619463234125861,\n",
       " -0.6061333707732334,\n",
       " -0.5479004231219572,\n",
       " -0.48710404456768225,\n",
       " -0.42357622156375013,\n",
       " -0.3571194369471776,\n",
       " -0.28750126840316065,\n",
       " -0.21445411340679846,\n",
       " -0.13747381637261571,\n",
       " -0.05655157497710498,\n",
       " 0.029103422998285958,\n",
       " 0.12000207386592411,\n",
       " 0.21685791844282853,\n",
       " 0.3205581203733911,\n",
       " 0.4322131498227818,\n",
       " 0.5532291740832337,\n",
       " 0.6854125811827348,\n",
       " 0.8311289098301604,\n",
       " 0.9935986540587064,\n",
       " 1.1808045196114325,\n",
       " 1.3847479638587905,\n",
       " 1.6294650344006176,\n",
       " 1.9208249537609905,\n",
       " 2.2776723106498915,\n",
       " 2.7301585860194706,\n",
       " 3.3303506682945243,\n",
       " 4.176664978395078,\n",
       " 5.4802401727597605,\n",
       " 7.791251719580905,\n",
       " 13.139056304507516,\n",
       " 40.61643680062139,\n",
       " -40.61643680062216,\n",
       " -13.139056304507632,\n",
       " -7.791251719580808,\n",
       " -5.480240172759724,\n",
       " -4.176664978395055,\n",
       " -3.330350668294529,\n",
       " -2.730158586019494,\n",
       " -2.2776723106499044,\n",
       " -1.9208249537609858,\n",
       " -1.6294650344005996,\n",
       " -1.3847479638587907,\n",
       " -1.1808045196114179,\n",
       " -0.9935986540587072,\n",
       " -0.8311289098301623,\n",
       " -0.6854125811827392,\n",
       " -0.5532291740832381,\n",
       " -0.432213149822785,\n",
       " -0.32055812037339615,\n",
       " -0.2168579184428327,\n",
       " -0.12000207386592897,\n",
       " -0.029103422998287547,\n",
       " 0.05655157497710108,\n",
       " 0.13747381637260997,\n",
       " 0.21445411340679507,\n",
       " 0.28750126840315793,\n",
       " 0.3571194369471717,\n",
       " 0.42357622156374813,\n",
       " 0.48710404456767814,\n",
       " 0.5479004231219561,\n",
       " 0.6061333707732309,\n",
       " 0.6619463234125851,\n",
       " 0.7154625484614152,\n",
       " 0.7667904557228835,\n",
       " 0.8160489835673281,\n",
       " 0.8630598817849093,\n",
       " 0.908359403219552,\n",
       " 0.9516947310044025,\n",
       " 0.9931692001761151,\n",
       " 1.0328307541847714,\n",
       " 1.0707181101854188,\n",
       " 1.1068647547949695,\n",
       " 1.1413009739414222,\n",
       " 1.1740570096002871,\n",
       " 1.2051734219897967,\n",
       " 1.234772894370062,\n",
       " 1.2537795034088013,\n",
       " 1.287888253910603,\n",
       " 1.3125775202714514,\n",
       " 1.335543759526047,\n",
       " 1.3568833197877839,\n",
       " 1.376623546275163,\n",
       " 1.3947810022452334,\n",
       " 1.4113726115621528,\n",
       " 1.4264250732980177,\n",
       " 1.4400013331898425,\n",
       " 1.4523434566663955,\n",
       " 1.466712633578389,\n",
       " 1.4672822543700186,\n",
       " 1.4758434170658703,\n",
       " 1.481700148433362,\n",
       " 1.4857723424333473,\n",
       " 1.4881923997253883,\n",
       " -2.535847743158167,\n",
       " 1.4881923997252513,\n",
       " 1.4857723424332827,\n",
       " 1.4817001484333316,\n",
       " 1.4758434170658419,\n",
       " 1.4672822543699824,\n",
       " 1.4667126335784249,\n",
       " 1.4523434566663755,\n",
       " 1.4400013331898445,\n",
       " 1.4264250732980006,\n",
       " 1.4113726115621517,\n",
       " 1.3947810022452323,\n",
       " 1.3766235462751526,\n",
       " 1.3568833197877874,\n",
       " 1.3355437595260433,\n",
       " 1.3125775202714487]"
      ]
     },
     "execution_count": 26,
     "metadata": {},
     "output_type": "execute_result"
    }
   ],
   "source": [
    "y"
   ]
  },
  {
   "cell_type": "code",
   "execution_count": null,
   "metadata": {
    "collapsed": true
   },
   "outputs": [],
   "source": []
  }
 ],
 "metadata": {
  "kernelspec": {
   "display_name": "Python 3",
   "language": "python",
   "name": "python3"
  },
  "language_info": {
   "codemirror_mode": {
    "name": "ipython",
    "version": 3
   },
   "file_extension": ".py",
   "mimetype": "text/x-python",
   "name": "python",
   "nbconvert_exporter": "python",
   "pygments_lexer": "ipython3",
   "version": "3.6.0"
  }
 },
 "nbformat": 4,
 "nbformat_minor": 2
}
