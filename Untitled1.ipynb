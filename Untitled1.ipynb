{
 "cells": [
  {
   "cell_type": "code",
   "execution_count": 1,
   "metadata": {
    "collapsed": true,
    "deletable": true,
    "editable": true
   },
   "outputs": [],
   "source": [
    "%matplotlib inline\n",
    "import pyedflib\n",
    "from scipy import *\n",
    "import numpy as np\n",
    "import math\n",
    "import pandas as pd\n",
    "import matplotlib.pyplot as plt\n",
    "import sys\n",
    "import os\n",
    "import traceback\n",
    "import mne\n",
    "from multitaper import *\n",
    "import scipy\n",
    "from scipy.io import savemat, loadmat\n",
    "SELECTED_CHANNELS = ['F7','T5', 'F3','P3', 'F4','P4', 'F8','T6', 'Fp1','O1', 'Fp2','O2']"
   ]
  },
  {
   "cell_type": "code",
   "execution_count": 8,
   "metadata": {
    "collapsed": false,
    "deletable": true,
    "editable": true
   },
   "outputs": [
    {
     "ename": "OSError",
     "evalue": "malloc error",
     "output_type": "error",
     "traceback": [
      "\u001b[0;31m----------------------------------------------------------------------\u001b[0m",
      "\u001b[0;31mOSError\u001b[0m                              Traceback (most recent call last)",
      "\u001b[0;32m<ipython-input-8-a6475e8d686e>\u001b[0m in \u001b[0;36m<module>\u001b[0;34m()\u001b[0m\n\u001b[1;32m     25\u001b[0m \u001b[0;34m\u001b[0m\u001b[0m\n\u001b[1;32m     26\u001b[0m \u001b[0mfilePath\u001b[0m \u001b[0;34m=\u001b[0m \u001b[0;34m\"/Users/smitra/self/andre/MIT-concussion/257802-post_season_20161206_142914.edf\"\u001b[0m\u001b[0;34m\u001b[0m\u001b[0m\n\u001b[0;32m---> 27\u001b[0;31m \u001b[0mf\u001b[0m \u001b[0;34m=\u001b[0m \u001b[0mpyedflib\u001b[0m\u001b[0;34m.\u001b[0m\u001b[0mEdfReader\u001b[0m\u001b[0;34m(\u001b[0m\u001b[0mfilePath\u001b[0m\u001b[0;34m)\u001b[0m\u001b[0;34m\u001b[0m\u001b[0m\n\u001b[0m\u001b[1;32m     28\u001b[0m \u001b[0msignal_labels\u001b[0m \u001b[0;34m=\u001b[0m \u001b[0mf\u001b[0m\u001b[0;34m.\u001b[0m\u001b[0mgetSignalLabels\u001b[0m\u001b[0;34m(\u001b[0m\u001b[0;34m)\u001b[0m\u001b[0;34m\u001b[0m\u001b[0m\n\u001b[1;32m     29\u001b[0m \u001b[0mnumChannels\u001b[0m \u001b[0;34m=\u001b[0m \u001b[0mf\u001b[0m\u001b[0;34m.\u001b[0m\u001b[0msignals_in_file\u001b[0m\u001b[0;34m\u001b[0m\u001b[0m\n",
      "\u001b[0;32mpyedflib\\_extensions\\_pyedflib.pyx\u001b[0m in \u001b[0;36mpyedflib._extensions._pyedflib.CyEdfReader.__init__ (pyedflib/_extensions/_pyedflib.c:2674)\u001b[0;34m()\u001b[0m\n",
      "\u001b[0;32mpyedflib\\_extensions\\_pyedflib.pyx\u001b[0m in \u001b[0;36mpyedflib._extensions._pyedflib.CyEdfReader.open (pyedflib/_extensions/_pyedflib.c:3287)\u001b[0;34m()\u001b[0m\n",
      "\u001b[0;32mpyedflib\\_extensions\\_pyedflib.pyx\u001b[0m in \u001b[0;36mpyedflib._extensions._pyedflib.CyEdfReader.check_open_ok (pyedflib/_extensions/_pyedflib.c:2846)\u001b[0;34m()\u001b[0m\n",
      "\u001b[0;31mOSError\u001b[0m: malloc error"
     ]
    }
   ],
   "source": [
    "# get frequency grid\n",
    "def getGridIndices(lowerFrequency, upperFrequency, paddedNumDataPoints, samplingFrequency):\n",
    "\n",
    "  try:\n",
    "\n",
    "      frequencyResolution = float ( samplingFrequency ) / float ( paddedNumDataPoints )\n",
    "      \n",
    "      gridValues = np.arange ( 0, samplingFrequency , frequencyResolution )\n",
    "      \n",
    "      gridValues = gridValues[ :paddedNumDataPoints ]\n",
    "\n",
    "      gridIndices = [index for index, x in enumerate (gridValues) if x>= lowerFrequency and x<= upperFrequency ]\n",
    "\n",
    "      gridValues = [x for index, x in enumerate (gridValues) if x>= lowerFrequency and x<= upperFrequency ]\n",
    "\n",
    "  except:\n",
    "    traceback.print_exc(file=sys.stdout)\n",
    "\n",
    "  return gridValues , gridIndices\n",
    "\n",
    "data = loadmat(\"/Users/smitra/projects/webChronux/utils/EEG181.mat\")[\"eegData\"]\n",
    "#n = f.signals_in_file\n",
    "n = 16\n",
    "#signal_labels = f.getSignalLabels()\n",
    "\n",
    "filePath = \"/Users/smitra/self/andre/MIT-concussion/257802-post_season_20161206_142914.edf\"\n",
    "f = pyedflib.EdfReader(filePath)\n",
    "signal_labels = f.getSignalLabels()\n",
    "numChannels = f.signals_in_file\n",
    "\n",
    "beginWin = 0\n",
    "endWin = 0\n",
    "samplingFrequency = 250\n",
    "upperFrequency = 100\n",
    "lowerFrequency = 0\n",
    "timeBandWidth = 4\n",
    "timeWindow = 3 # time window in seconds\n",
    "stepSize = 1 # in seconds\n",
    "\n",
    "numDataPoints =  timeWindow * samplingFrequency\n",
    "stepSizeWindow = stepSize * samplingFrequency\n",
    "padding = 0\n",
    "\n",
    "winLen = timeWindow * samplingFrequency  \n",
    "#print (\"win len = \" + str(winLen))\n",
    "paddedNumDataPoints = int ( pow ( 2, ceil ( np.log2 ( winLen ) ) + padding ) )\n",
    "\n",
    "numTapers = 9\n",
    "[tapers, eigenValues] = dpss_windows(int(numDataPoints), float(timeBandWidth), int(numTapers) )\n",
    "\n",
    "fpass = [lowerFrequency,upperFrequency]\n",
    "\n",
    "gridValues, gridIndices = getGridIndices(fpass[0], fpass[1], paddedNumDataPoints, samplingFrequency)\n",
    "\n",
    "dataMatrix = []\n",
    "\n",
    "for channelIndex in range(numChannels):\n",
    "\n",
    "  spectrogramData = []\n",
    "\n",
    "  #channelData = data[channelIndex]\n",
    "\n",
    "  channelData = f.readSignal(channelIndex)\n",
    "\n",
    "  channelLabel = signal_labels[channelIndex]\n",
    "\n",
    "  # only process selected channels\n",
    "  #if channelLabel not in SELECTED_CHANNELS:\n",
    "    #continue\n",
    "\n",
    "  dataMatrix.append(channelData)\n",
    "  if channelIndex != 14:\n",
    "    continue\n",
    "\n",
    "  #print (\"for channel \" + channelLabel)\n",
    "\n",
    "  numWindows = int ( ( len ( channelData ) - numDataPoints + 1) / ( stepSize  ) )\n",
    "\n",
    "  print ( \" numWindows = \" + str(numWindows) )\n"
   ]
  },
  {
   "cell_type": "code",
   "execution_count": null,
   "metadata": {
    "collapsed": true,
    "deletable": true,
    "editable": true
   },
   "outputs": [],
   "source": []
  }
 ],
 "metadata": {
  "kernelspec": {
   "display_name": "Python 3",
   "language": "python",
   "name": "python3"
  },
  "language_info": {
   "codemirror_mode": {
    "name": "ipython",
    "version": 3
   },
   "file_extension": ".py",
   "mimetype": "text/x-python",
   "name": "python",
   "nbconvert_exporter": "python",
   "pygments_lexer": "ipython3",
   "version": "3.6.0"
  }
 },
 "nbformat": 4,
 "nbformat_minor": 2
}
